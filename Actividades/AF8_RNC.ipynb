{
  "nbformat": 4,
  "nbformat_minor": 0,
  "metadata": {
    "colab": {
      "provenance": [],
      "authorship_tag": "ABX9TyPrvHcnNhA61cDqai6/Ajev",
      "include_colab_link": true
    },
    "kernelspec": {
      "name": "python3",
      "display_name": "Python 3"
    },
    "language_info": {
      "name": "python"
    }
  },
  "cells": [
    {
      "cell_type": "markdown",
      "metadata": {
        "id": "view-in-github",
        "colab_type": "text"
      },
      "source": [
        "<a href=\"https://colab.research.google.com/github/BDZG10/IntArt.FIME/blob/main/Actividades/AF8_RNC.ipynb\" target=\"_parent\"><img src=\"https://colab.research.google.com/assets/colab-badge.svg\" alt=\"Open In Colab\"/></a>"
      ]
    },
    {
      "cell_type": "code",
      "execution_count": 83,
      "metadata": {
        "id": "jFITUuVrzIZm"
      },
      "outputs": [],
      "source": [
        "# Actividad 8: Redes Neuronales Convolucionales\n",
        "# Equipo:\n",
        "# N4 Cesar Ballin Rodriguez-2132117\n",
        "# N4 Brandon Daniel Zavala Gaytan 2055952\n",
        "# N4 Dylan Jesús Cuéllar Aranda 2042806\n",
        "# N4 Letizia Isabel García Vargas 2056273\n",
        "# N5 Erick Escárcega Esparza 2132268\n",
        "\n",
        "import numpy as np\n",
        "import matplotlib.pyplot as plt\n",
        "import tensorflow as tf\n",
        "from tensorflow.keras import layers, models"
      ]
    },
    {
      "cell_type": "markdown",
      "source": [
        "2. Cargar Datos"
      ],
      "metadata": {
        "id": "nTZ9WIcM6Zzx"
      }
    },
    {
      "cell_type": "code",
      "source": [
        "(train_images, train_labels), (test_images, test_labels) = tf.keras.datasets.mnist.load_data()"
      ],
      "metadata": {
        "id": "KXO8GdUP6aWx"
      },
      "execution_count": 87,
      "outputs": []
    },
    {
      "cell_type": "markdown",
      "source": [
        "3. Preprocesamiento de datos"
      ],
      "metadata": {
        "id": "rLyUsHIgHlc1"
      }
    },
    {
      "cell_type": "code",
      "source": [
        "(train_images, train_labels), (test_images, test_labels) = keras.datasets.mnist.load_data()"
      ],
      "metadata": {
        "id": "Y_E9lIV-HlPa"
      },
      "execution_count": 88,
      "outputs": []
    },
    {
      "cell_type": "code",
      "source": [
        "# Normalizar los valores de píxeles a [0, 1]\n",
        "train_images = train_images.reshape((60000, 28, 28, 1)).astype('float32') / 255\n",
        "test_images = test_images.reshape((10000, 28, 28, 1)).astype('float32') / 255\n",
        "\n",
        "train_labels = tf.keras.utils.to_categorical(train_labels)\n",
        "test_labels = tf.keras.utils.to_categorical(test_labels)"
      ],
      "metadata": {
        "id": "fhs6J8xEYmbr"
      },
      "execution_count": 89,
      "outputs": []
    },
    {
      "cell_type": "markdown",
      "source": [
        "4. Selección y entrenamiento del modelo"
      ],
      "metadata": {
        "id": "Z7f6dDvhHl4Q"
      }
    },
    {
      "cell_type": "code",
      "source": [
        "model = models.Sequential([\n",
        "    layers.Conv2D(32, (3, 3), activation='relu', input_shape=(28, 28, 1)),\n",
        "    layers.MaxPooling2D((2, 2)),\n",
        "    layers.Conv2D(64, (3, 3), activation='relu'),\n",
        "    layers.MaxPooling2D((2, 2)),\n",
        "    layers.Conv2D(64, (3, 3), activation='relu'),\n",
        "    layers.Flatten(),\n",
        "    layers.Dense(64, activation='relu'),\n",
        "    layers.Dense(10, activation='softmax')  # Capa de salida con softmax\n",
        "])"
      ],
      "metadata": {
        "id": "fGY6euNCH6XN"
      },
      "execution_count": 91,
      "outputs": []
    },
    {
      "cell_type": "code",
      "source": [
        "model.compile(optimizer='adam',\n",
        "              loss='categorical_crossentropy',\n",
        "              metrics=['accuracy'])"
      ],
      "metadata": {
        "id": "5NSQMvP1L_XR"
      },
      "execution_count": 92,
      "outputs": []
    },
    {
      "cell_type": "code",
      "source": [
        "history = model.fit(train_images, train_labels,\n",
        "                    epochs=5,\n",
        "                    batch_size=64,\n",
        "                    validation_data=(test_images, test_labels))"
      ],
      "metadata": {
        "colab": {
          "base_uri": "https://localhost:8080/"
        },
        "id": "QSxvWW9cUGfw",
        "outputId": "826851ec-3b6a-487d-a802-8717d87d5444"
      },
      "execution_count": 93,
      "outputs": [
        {
          "output_type": "stream",
          "name": "stdout",
          "text": [
            "Epoch 1/5\n",
            "\u001b[1m938/938\u001b[0m \u001b[32m━━━━━━━━━━━━━━━━━━━━\u001b[0m\u001b[37m\u001b[0m \u001b[1m56s\u001b[0m 57ms/step - accuracy: 0.8648 - loss: 0.4349 - val_accuracy: 0.9814 - val_loss: 0.0584\n",
            "Epoch 2/5\n",
            "\u001b[1m938/938\u001b[0m \u001b[32m━━━━━━━━━━━━━━━━━━━━\u001b[0m\u001b[37m\u001b[0m \u001b[1m81s\u001b[0m 57ms/step - accuracy: 0.9818 - loss: 0.0592 - val_accuracy: 0.9864 - val_loss: 0.0409\n",
            "Epoch 3/5\n",
            "\u001b[1m938/938\u001b[0m \u001b[32m━━━━━━━━━━━━━━━━━━━━\u001b[0m\u001b[37m\u001b[0m \u001b[1m84s\u001b[0m 58ms/step - accuracy: 0.9877 - loss: 0.0392 - val_accuracy: 0.9875 - val_loss: 0.0341\n",
            "Epoch 4/5\n",
            "\u001b[1m938/938\u001b[0m \u001b[32m━━━━━━━━━━━━━━━━━━━━\u001b[0m\u001b[37m\u001b[0m \u001b[1m78s\u001b[0m 54ms/step - accuracy: 0.9905 - loss: 0.0311 - val_accuracy: 0.9906 - val_loss: 0.0268\n",
            "Epoch 5/5\n",
            "\u001b[1m938/938\u001b[0m \u001b[32m━━━━━━━━━━━━━━━━━━━━\u001b[0m\u001b[37m\u001b[0m \u001b[1m84s\u001b[0m 56ms/step - accuracy: 0.9934 - loss: 0.0213 - val_accuracy: 0.9877 - val_loss: 0.0346\n"
          ]
        }
      ]
    },
    {
      "cell_type": "markdown",
      "source": [
        "5. Prueba del modelo"
      ],
      "metadata": {
        "id": "w_TkFP5YHyyY"
      }
    },
    {
      "cell_type": "code",
      "source": [
        "test_loss, test_acc = model.evaluate(test_images, test_labels)\n",
        "print(f'\\nExactitud en datos de prueba: {test_acc:.4f}')"
      ],
      "metadata": {
        "id": "vwCQB-5ZHkwo",
        "colab": {
          "base_uri": "https://localhost:8080/"
        },
        "outputId": "91bc653d-8e9b-406d-fdb6-12d96ae4902b"
      },
      "execution_count": 96,
      "outputs": [
        {
          "output_type": "stream",
          "name": "stdout",
          "text": [
            "\u001b[1m313/313\u001b[0m \u001b[32m━━━━━━━━━━━━━━━━━━━━\u001b[0m\u001b[37m\u001b[0m \u001b[1m3s\u001b[0m 9ms/step - accuracy: 0.9832 - loss: 0.0446\n",
            "\n",
            "Exactitud en datos de prueba: 0.9877\n"
          ]
        }
      ]
    },
    {
      "cell_type": "code",
      "source": [
        "predictions = model.predict(test_images)\n",
        "sample_indices = np.random.choice(len(test_images), 5)"
      ],
      "metadata": {
        "colab": {
          "base_uri": "https://localhost:8080/"
        },
        "id": "GqV7vJ-kRHzL",
        "outputId": "3436458e-de7f-4e19-b90d-cdba35b54395"
      },
      "execution_count": 97,
      "outputs": [
        {
          "output_type": "stream",
          "name": "stdout",
          "text": [
            "\u001b[1m313/313\u001b[0m \u001b[32m━━━━━━━━━━━━━━━━━━━━\u001b[0m\u001b[37m\u001b[0m \u001b[1m3s\u001b[0m 10ms/step\n"
          ]
        }
      ]
    },
    {
      "cell_type": "code",
      "source": [
        "plt.figure(figsize=(10, 5))\n",
        "for i, idx in enumerate(sample_indices):\n",
        "    plt.subplot(1, 5, i+1)\n",
        "    plt.imshow(test_images[idx].reshape(28, 28), cmap='gray')\n",
        "    predicted_label = np.argmax(predictions[idx])\n",
        "    true_label = np.argmax(test_labels[idx])\n",
        "    plt.title(f'Pred: {predicted_label}\\nReal: {true_label}')\n",
        "    plt.axis('off')\n",
        "plt.tight_layout()\n",
        "plt.show()"
      ],
      "metadata": {
        "colab": {
          "base_uri": "https://localhost:8080/",
          "height": 262
        },
        "id": "Vq_Kz1xGZpD7",
        "outputId": "084edecf-51f1-41c8-d230-338338c0903e"
      },
      "execution_count": 98,
      "outputs": [
        {
          "output_type": "display_data",
          "data": {
            "text/plain": [
              "<Figure size 1000x500 with 5 Axes>"
            ],
            "image/png": "[encoded data removed]"
          },
          "metadata": {}
        }
      ]
    }
  ]
}